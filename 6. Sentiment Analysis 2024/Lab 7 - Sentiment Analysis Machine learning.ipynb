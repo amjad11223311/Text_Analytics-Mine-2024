{
 "cells": [
  {
   "cell_type": "code",
   "execution_count": 2,
   "id": "50977675",
   "metadata": {},
   "outputs": [],
   "source": [
    "from sklearn.feature_extraction.text import CountVectorizer\n",
    "from sklearn.model_selection import train_test_split\n",
    "from sklearn.naive_bayes import MultinomialNB\n",
    "from sklearn.svm import SVC\n",
    "from sklearn.metrics import classification_report"
   ]
  },
  {
   "cell_type": "code",
   "execution_count": 3,
   "id": "64808460",
   "metadata": {},
   "outputs": [],
   "source": [
    "data = [\n",
    " (\"I love this product, it's amazing!\", 'positive'),\n",
    " (\"This product is terrible, I hate it.\", 'negative'),\n",
    " (\"It's okay, not bad but not great either.\", 'neutral'),\n",
    " (\"Best product ever, highly recommended!\", 'positive'),\n",
    " (\"I'm really disappointed with the quality.\", 'negative'),\n",
    " (\"So-so product, nothing special about it.\", 'neutral'),\n",
    " (\"The customer service was excellent!\", 'positive'),\n",
    " (\"I wasted my money on this useless product.\", 'negative'),\n",
    " (\"It's not the worst, but certainly not the best.\", 'neutral'),\n",
    " (\"I can't live without this product, it's a lifesaver!\", 'positive'),\n",
    " (\"The product arrived damaged and unusable.\", 'negative'),\n",
    " (\"It's average, neither good nor bad.\", 'neutral'),\n",
    " (\"Highly disappointed with the purchase.\", 'negative'),\n",
    " (\"The product exceeded my expectations.\", 'positive'),\n",
    " (\"It's just okay, nothing extraordinary.\", 'neutral'),\n",
    " (\"This product is excellent, it exceeded all my expectations!\", 'positive'),\n",
    " (\"I regret purchasing this product, it's a waste of money.\", 'negative'),\n",
    " (\"It's neither good nor bad, just average.\", 'neutral'),\n",
    " (\"Outstanding customer service, highly recommended!\", 'positive'),\n",
    " (\"I'm very disappointed with the quality of this item.\", 'negative'),\n",
    " (\"It's not the best product, but it gets the job done.\", 'neutral'),\n",
    " (\"This product is a game-changer, I can't imagine life without it!\", 'positive'),\n",
    " (\"I received a defective product, very dissatisfied.\", 'negative'),\n",
    " (\"It's neither great nor terrible, just okay.\", 'neutral'),\n",
    " (\"Fantastic product, I would buy it again in a heartbeat!\", 'positive'),\n",
    " (\"Avoid this product at all costs, complete waste of money.\", 'negative'),\n",
    " (\"It's decent, but nothing extraordinary.\", 'neutral'),\n",
    " (\"Impressive quality, exceeded my expectations!\", 'positive'),\n",
    " (\"I'm very unhappy with this purchase, total disappointment.\", 'negative'),\n",
    " (\"It's neither amazing nor terrible, somewhere in between.\", 'neutral')\n",
    "]\n"
   ]
  },
  {
   "cell_type": "code",
   "execution_count": 4,
   "id": "fda70a07",
   "metadata": {},
   "outputs": [],
   "source": [
    "# Split data into training and testing sets\n",
    "texts = [text for text, _ in data]\n",
    "labels = [label for _, label in data]\n",
    "X_train, X_test, y_train, y_test = train_test_split(texts, labels, test_size=0.4, \n",
    "random_state=42)"
   ]
  },
  {
   "cell_type": "code",
   "execution_count": 5,
   "id": "87c5a05c",
   "metadata": {},
   "outputs": [],
   "source": [
    "# Extract features (bag of words representation)\n",
    "vectorizer = CountVectorizer()\n",
    "X_train = vectorizer.fit_transform(X_train)\n",
    "X_test = vectorizer.transform(X_test)"
   ]
  },
  {
   "cell_type": "code",
   "execution_count": 6,
   "id": "73968dce",
   "metadata": {},
   "outputs": [],
   "source": [
    "# Initialize classifiers\n",
    "nb_classifier = MultinomialNB()\n",
    "svm_classifier = SVC(kernel='linear')\n"
   ]
  },
  {
   "cell_type": "code",
   "execution_count": 7,
   "id": "8450c47a",
   "metadata": {},
   "outputs": [
    {
     "data": {
      "text/html": [
       "<style>#sk-container-id-1 {color: black;}#sk-container-id-1 pre{padding: 0;}#sk-container-id-1 div.sk-toggleable {background-color: white;}#sk-container-id-1 label.sk-toggleable__label {cursor: pointer;display: block;width: 100%;margin-bottom: 0;padding: 0.3em;box-sizing: border-box;text-align: center;}#sk-container-id-1 label.sk-toggleable__label-arrow:before {content: \"▸\";float: left;margin-right: 0.25em;color: #696969;}#sk-container-id-1 label.sk-toggleable__label-arrow:hover:before {color: black;}#sk-container-id-1 div.sk-estimator:hover label.sk-toggleable__label-arrow:before {color: black;}#sk-container-id-1 div.sk-toggleable__content {max-height: 0;max-width: 0;overflow: hidden;text-align: left;background-color: #f0f8ff;}#sk-container-id-1 div.sk-toggleable__content pre {margin: 0.2em;color: black;border-radius: 0.25em;background-color: #f0f8ff;}#sk-container-id-1 input.sk-toggleable__control:checked~div.sk-toggleable__content {max-height: 200px;max-width: 100%;overflow: auto;}#sk-container-id-1 input.sk-toggleable__control:checked~label.sk-toggleable__label-arrow:before {content: \"▾\";}#sk-container-id-1 div.sk-estimator input.sk-toggleable__control:checked~label.sk-toggleable__label {background-color: #d4ebff;}#sk-container-id-1 div.sk-label input.sk-toggleable__control:checked~label.sk-toggleable__label {background-color: #d4ebff;}#sk-container-id-1 input.sk-hidden--visually {border: 0;clip: rect(1px 1px 1px 1px);clip: rect(1px, 1px, 1px, 1px);height: 1px;margin: -1px;overflow: hidden;padding: 0;position: absolute;width: 1px;}#sk-container-id-1 div.sk-estimator {font-family: monospace;background-color: #f0f8ff;border: 1px dotted black;border-radius: 0.25em;box-sizing: border-box;margin-bottom: 0.5em;}#sk-container-id-1 div.sk-estimator:hover {background-color: #d4ebff;}#sk-container-id-1 div.sk-parallel-item::after {content: \"\";width: 100%;border-bottom: 1px solid gray;flex-grow: 1;}#sk-container-id-1 div.sk-label:hover label.sk-toggleable__label {background-color: #d4ebff;}#sk-container-id-1 div.sk-serial::before {content: \"\";position: absolute;border-left: 1px solid gray;box-sizing: border-box;top: 0;bottom: 0;left: 50%;z-index: 0;}#sk-container-id-1 div.sk-serial {display: flex;flex-direction: column;align-items: center;background-color: white;padding-right: 0.2em;padding-left: 0.2em;position: relative;}#sk-container-id-1 div.sk-item {position: relative;z-index: 1;}#sk-container-id-1 div.sk-parallel {display: flex;align-items: stretch;justify-content: center;background-color: white;position: relative;}#sk-container-id-1 div.sk-item::before, #sk-container-id-1 div.sk-parallel-item::before {content: \"\";position: absolute;border-left: 1px solid gray;box-sizing: border-box;top: 0;bottom: 0;left: 50%;z-index: -1;}#sk-container-id-1 div.sk-parallel-item {display: flex;flex-direction: column;z-index: 1;position: relative;background-color: white;}#sk-container-id-1 div.sk-parallel-item:first-child::after {align-self: flex-end;width: 50%;}#sk-container-id-1 div.sk-parallel-item:last-child::after {align-self: flex-start;width: 50%;}#sk-container-id-1 div.sk-parallel-item:only-child::after {width: 0;}#sk-container-id-1 div.sk-dashed-wrapped {border: 1px dashed gray;margin: 0 0.4em 0.5em 0.4em;box-sizing: border-box;padding-bottom: 0.4em;background-color: white;}#sk-container-id-1 div.sk-label label {font-family: monospace;font-weight: bold;display: inline-block;line-height: 1.2em;}#sk-container-id-1 div.sk-label-container {text-align: center;}#sk-container-id-1 div.sk-container {/* jupyter's `normalize.less` sets `[hidden] { display: none; }` but bootstrap.min.css set `[hidden] { display: none !important; }` so we also need the `!important` here to be able to override the default hidden behavior on the sphinx rendered scikit-learn.org. See: https://github.com/scikit-learn/scikit-learn/issues/21755 */display: inline-block !important;position: relative;}#sk-container-id-1 div.sk-text-repr-fallback {display: none;}</style><div id=\"sk-container-id-1\" class=\"sk-top-container\"><div class=\"sk-text-repr-fallback\"><pre>SVC(kernel=&#x27;linear&#x27;)</pre><b>In a Jupyter environment, please rerun this cell to show the HTML representation or trust the notebook. <br />On GitHub, the HTML representation is unable to render, please try loading this page with nbviewer.org.</b></div><div class=\"sk-container\" hidden><div class=\"sk-item\"><div class=\"sk-estimator sk-toggleable\"><input class=\"sk-toggleable__control sk-hidden--visually\" id=\"sk-estimator-id-1\" type=\"checkbox\" checked><label for=\"sk-estimator-id-1\" class=\"sk-toggleable__label sk-toggleable__label-arrow\">SVC</label><div class=\"sk-toggleable__content\"><pre>SVC(kernel=&#x27;linear&#x27;)</pre></div></div></div></div></div>"
      ],
      "text/plain": [
       "SVC(kernel='linear')"
      ]
     },
     "execution_count": 7,
     "metadata": {},
     "output_type": "execute_result"
    }
   ],
   "source": [
    "# Train classifiers\n",
    "nb_classifier.fit(X_train, y_train)\n",
    "svm_classifier.fit(X_train, y_train)"
   ]
  },
  {
   "cell_type": "code",
   "execution_count": 8,
   "id": "ede730fa",
   "metadata": {},
   "outputs": [],
   "source": [
    "# Predict sentiment using classifiers\n",
    "for text, actual_label in zip(X_test, y_test):\n",
    "# Predict sentiment using Naive Bayes\n",
    " nb_prediction = nb_classifier.predict(text)[0]\n",
    "# Predict sentiment using SVM\n",
    " svm_prediction = svm_classifier.predict(text)[0]\n"
   ]
  },
  {
   "cell_type": "code",
   "execution_count": 9,
   "id": "27f442e4",
   "metadata": {},
   "outputs": [
    {
     "name": "stdout",
     "output_type": "stream",
     "text": [
      "\n",
      "Classification Report for Naive Bayes:\n",
      "              precision    recall  f1-score   support\n",
      "\n",
      "    negative       0.80      1.00      0.89         4\n",
      "     neutral       0.75      1.00      0.86         3\n",
      "    positive       1.00      0.60      0.75         5\n",
      "\n",
      "    accuracy                           0.83        12\n",
      "   macro avg       0.85      0.87      0.83        12\n",
      "weighted avg       0.87      0.83      0.82        12\n",
      "\n",
      "\n",
      "Classification Report for SVM:\n",
      "              precision    recall  f1-score   support\n",
      "\n",
      "    negative       0.75      0.75      0.75         4\n",
      "     neutral       0.75      1.00      0.86         3\n",
      "    positive       0.75      0.60      0.67         5\n",
      "\n",
      "    accuracy                           0.75        12\n",
      "   macro avg       0.75      0.78      0.76        12\n",
      "weighted avg       0.75      0.75      0.74        12\n",
      "\n"
     ]
    }
   ],
   "source": [
    "# Calculate classification report for Naive Bayes\n",
    "nb_classification_report = classification_report(y_test, \n",
    "nb_classifier.predict(X_test), target_names=['negative', 'neutral', 'positive'])\n",
    "# Calculate classification report for SVM\n",
    "svm_classification_report = classification_report(y_test, \n",
    "svm_classifier.predict(X_test), target_names=['negative', 'neutral', 'positive'])\n",
    "# Print classification report for Naive Bayes\n",
    "print(\"\\nClassification Report for Naive Bayes:\")\n",
    "print(nb_classification_report)\n",
    "# Print classification report for SVM\n",
    "print(\"\\nClassification Report for SVM:\")\n",
    "print(svm_classification_report)"
   ]
  },
  {
   "cell_type": "code",
   "execution_count": null,
   "id": "d9234f4c",
   "metadata": {},
   "outputs": [],
   "source": []
  }
 ],
 "metadata": {
  "kernelspec": {
   "display_name": "Python 3 (ipykernel)",
   "language": "python",
   "name": "python3"
  },
  "language_info": {
   "codemirror_mode": {
    "name": "ipython",
    "version": 3
   },
   "file_extension": ".py",
   "mimetype": "text/x-python",
   "name": "python",
   "nbconvert_exporter": "python",
   "pygments_lexer": "ipython3",
   "version": "3.11.5"
  }
 },
 "nbformat": 4,
 "nbformat_minor": 5
}
