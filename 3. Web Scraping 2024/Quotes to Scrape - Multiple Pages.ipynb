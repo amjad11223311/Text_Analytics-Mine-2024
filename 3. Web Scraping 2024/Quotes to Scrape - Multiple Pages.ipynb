{
 "cells": [
  {
   "cell_type": "code",
   "execution_count": 1,
   "id": "9969cf37",
   "metadata": {},
   "outputs": [],
   "source": [
    "import requests\n",
    "from bs4 import BeautifulSoup\n",
    "import csv\n"
   ]
  },
  {
   "cell_type": "code",
   "execution_count": 2,
   "id": "0609540a",
   "metadata": {},
   "outputs": [],
   "source": [
    "def scrape_page(soup, quotes):\n",
    "    for quote in soup.find_all('div', class_='quote'):\n",
    "        text = quote.find('span', class_='text').text\n",
    "        author = quote.find('small', class_='author').text\n",
    "        tags = ', '.join(tag.text for tag in quote.find_all('a', class_='tag'))\n",
    "        quotes.append({'Text': text, 'Author': author, 'Tags': tags})\n"
   ]
  },
  {
   "cell_type": "code",
   "execution_count": 3,
   "id": "79b90e03",
   "metadata": {},
   "outputs": [],
   "source": [
    "base_url = 'https://quotes.toscrape.com'"
   ]
  },
  {
   "cell_type": "code",
   "execution_count": 4,
   "id": "bcc3588a",
   "metadata": {},
   "outputs": [],
   "source": [
    "headers = {'User-Agent': 'Mozilla/5.0'}"
   ]
  },
  {
   "cell_type": "code",
   "execution_count": 5,
   "id": "106ddf44",
   "metadata": {},
   "outputs": [],
   "source": [
    "quotes = []"
   ]
  },
  {
   "cell_type": "code",
   "execution_count": 6,
   "id": "21466aa0",
   "metadata": {},
   "outputs": [],
   "source": [
    "def scrape_all_pages(url):\n",
    "    while url:\n",
    "        response = requests.get(url, headers=headers)\n",
    "        soup = BeautifulSoup(response.text, 'html.parser')\n",
    "        scrape_page(soup, quotes)\n",
    "        next_page = soup.find('li', class_='next')\n",
    "        url = base_url + next_page.find('a')['href'] if next_page else None\n"
   ]
  },
  {
   "cell_type": "code",
   "execution_count": 7,
   "id": "abf4b5f2",
   "metadata": {},
   "outputs": [],
   "source": [
    "scrape_all_pages(base_url)"
   ]
  },
  {
   "cell_type": "code",
   "execution_count": 8,
   "id": "f620a833",
   "metadata": {},
   "outputs": [],
   "source": [
    "with open('quotes2.csv', 'w', newline='', encoding='utf-8') as csvfile:\n",
    "    writer = csv.DictWriter(csvfile, fieldnames=['Text', 'Author', 'Tags'])\n",
    "    writer.writeheader()\n",
    "    writer.writerows(quotes)\n"
   ]
  },
  {
   "cell_type": "code",
   "execution_count": null,
   "id": "59de073c",
   "metadata": {},
   "outputs": [],
   "source": []
  }
 ],
 "metadata": {
  "kernelspec": {
   "display_name": "Python 3 (ipykernel)",
   "language": "python",
   "name": "python3"
  },
  "language_info": {
   "codemirror_mode": {
    "name": "ipython",
    "version": 3
   },
   "file_extension": ".py",
   "mimetype": "text/x-python",
   "name": "python",
   "nbconvert_exporter": "python",
   "pygments_lexer": "ipython3",
   "version": "3.11.5"
  }
 },
 "nbformat": 4,
 "nbformat_minor": 5
}
